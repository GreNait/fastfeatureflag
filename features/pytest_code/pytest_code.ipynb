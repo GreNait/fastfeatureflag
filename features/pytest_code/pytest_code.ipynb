{
 "cells": [
  {
   "cell_type": "markdown",
   "metadata": {},
   "source": [
    "# &#x2714; `.pytest`\n",
    "\n",
    "If you want to combine a feature also with tests, you want to use the `.pytest()` functionality. The `pytest` expects a function (not a callable) which it can execute. This is exactly what the `.pytest()` function of `feature_flag` provides.\n",
    "\n",
    "Additionally, you can specify if the decorated test should pass/fail."
   ]
  },
  {
   "cell_type": "code",
   "execution_count": 2,
   "metadata": {},
   "outputs": [],
   "source": [
    "import ipytest\n",
    "ipytest.autoconfig()\n",
    "\n",
    "from fastfeatureflag.feature_flag import feature_flag\n",
    "\n",
    "@feature_flag().pytest()\n",
    "def test_deactive_for_pytest():\n",
    "    assert False\n",
    "\n",
    "\n",
    "@feature_flag(\"on\").pytest()\n",
    "def test_active_for_pytest():\n",
    "    assert True"
   ]
  },
  {
   "cell_type": "code",
   "execution_count": 3,
   "metadata": {},
   "outputs": [
    {
     "name": "stdout",
     "output_type": "stream",
     "text": [
      "\u001b[32m.\u001b[0m\u001b[32m.\u001b[0m\u001b[32m                                                                                           [100%]\u001b[0m\n",
      "\u001b[32m\u001b[32m\u001b[1m2 passed\u001b[0m\u001b[32m in 0.01s\u001b[0m\u001b[0m\n"
     ]
    },
    {
     "data": {
      "text/plain": [
       "<ExitCode.OK: 0>"
      ]
     },
     "execution_count": 3,
     "metadata": {},
     "output_type": "execute_result"
    }
   ],
   "source": [
    "ipytest.run()"
   ]
  }
 ],
 "metadata": {
  "kernelspec": {
   "display_name": ".venv",
   "language": "python",
   "name": "python3"
  },
  "language_info": {
   "codemirror_mode": {
    "name": "ipython",
    "version": 3
   },
   "file_extension": ".py",
   "mimetype": "text/x-python",
   "name": "python",
   "nbconvert_exporter": "python",
   "pygments_lexer": "ipython3",
   "version": "3.10.12"
  }
 },
 "nbformat": 4,
 "nbformat_minor": 2
}
