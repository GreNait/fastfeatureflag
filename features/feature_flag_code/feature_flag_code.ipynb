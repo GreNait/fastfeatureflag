{
 "cells": [
  {
   "cell_type": "markdown",
   "metadata": {},
   "source": [
    "# &#x1F3F3; `feature_flag`\n",
    "\n",
    "The basic component of `fastfeatureflag`."
   ]
  },
  {
   "cell_type": "markdown",
   "metadata": {},
   "source": [
    "## Usage"
   ]
  },
  {
   "cell_type": "code",
   "execution_count": 1,
   "metadata": {},
   "outputs": [
    {
     "data": {
      "text/plain": [
       "'Custom response'"
      ]
     },
     "execution_count": 1,
     "metadata": {},
     "output_type": "execute_result"
    }
   ],
   "source": [
    "from fastfeatureflag.feature_flag import feature_flag\n",
    "\n",
    "@feature_flag(\"off\", name=\"grouped_feature\", response=\"Custom response\")\n",
    "def broken_feature():\n",
    "    return \"broken feature\"\n",
    "\n",
    "broken_feature()"
   ]
  },
  {
   "cell_type": "markdown",
   "metadata": {},
   "source": [
    "## Update"
   ]
  },
  {
   "cell_type": "code",
   "execution_count": 2,
   "metadata": {},
   "outputs": [
    {
     "data": {
      "text/plain": [
       "'Custom response'"
      ]
     },
     "execution_count": 2,
     "metadata": {},
     "output_type": "execute_result"
    }
   ],
   "source": [
    "@feature_flag(\"off\", name=\"grouped_feature\", response=\"Custom response\")\n",
    "def broken_feature():\n",
    "    return \"broken feature\"\n",
    "\n",
    "broken_feature()"
   ]
  },
  {
   "cell_type": "markdown",
   "metadata": {},
   "source": [
    "To change the behavior of the single `feature_flag`, use the update method. Every flagged object has this function."
   ]
  },
  {
   "cell_type": "code",
   "execution_count": 3,
   "metadata": {},
   "outputs": [
    {
     "data": {
      "text/plain": [
       "'broken feature'"
      ]
     },
     "execution_count": 3,
     "metadata": {},
     "output_type": "execute_result"
    }
   ],
   "source": [
    "broken_feature.update(activation=\"on\")\n",
    "broken_feature()"
   ]
  },
  {
   "cell_type": "markdown",
   "metadata": {},
   "source": [
    "## Configuration"
   ]
  },
  {
   "cell_type": "markdown",
   "metadata": {},
   "source": [
    "Having several features might make the update difficult. It is also possible to reconfigure all flags. Provided a configuration dictionary."
   ]
  },
  {
   "cell_type": "code",
   "execution_count": 4,
   "metadata": {},
   "outputs": [
    {
     "data": {
      "text/plain": [
       "'Custom response'"
      ]
     },
     "execution_count": 4,
     "metadata": {},
     "output_type": "execute_result"
    }
   ],
   "source": [
    "@feature_flag(\"off\", name=\"grouped_feature\", response=\"Custom response\")\n",
    "def broken_feature():\n",
    "    return \"broken feature\"\n",
    "\n",
    "broken_feature()"
   ]
  },
  {
   "cell_type": "code",
   "execution_count": 5,
   "metadata": {},
   "outputs": [
    {
     "data": {
      "text/plain": [
       "'broken feature'"
      ]
     },
     "execution_count": 5,
     "metadata": {},
     "output_type": "execute_result"
    }
   ],
   "source": [
    "@feature_flag(\"off\", name=\"grouped_feature\", response=\"Custom response\")\n",
    "def broken_feature():\n",
    "    return \"broken feature\"\n",
    "\n",
    "configuration = {\"grouped_feature\": {\"activation\":\"on\"}}\n",
    "\n",
    "broken_feature.configuration = configuration\n",
    "broken_feature()"
   ]
  },
  {
   "cell_type": "code",
   "execution_count": 6,
   "metadata": {},
   "outputs": [
    {
     "data": {
      "text/plain": [
       "'Configured response'"
      ]
     },
     "execution_count": 6,
     "metadata": {},
     "output_type": "execute_result"
    }
   ],
   "source": [
    "configuration = {\"grouped_feature\": {\"activation\":\"off\",\"response\":\"Configured response\"}}\n",
    "\n",
    "broken_feature.configuration = configuration\n",
    "broken_feature()"
   ]
  },
  {
   "cell_type": "markdown",
   "metadata": {},
   "source": [
    "## Reconfiguration via a file\n",
    "\n",
    "Instead of providing a dictionary, it is also possible to point to a `*.toml` file, containing the configuration."
   ]
  },
  {
   "cell_type": "code",
   "execution_count": 7,
   "metadata": {},
   "outputs": [
    {
     "name": "stdout",
     "output_type": "stream",
     "text": [
      "[grouped_feature]\n",
      "activation=\"off\"\n",
      "response=\"Response defined by toml\"\n",
      "\n"
     ]
    }
   ],
   "source": [
    "with open(\"sample_config.toml\",\"r\") as file:\n",
    "    print(file.read())"
   ]
  },
  {
   "cell_type": "code",
   "execution_count": 8,
   "metadata": {},
   "outputs": [
    {
     "data": {
      "text/plain": [
       "'Configured response'"
      ]
     },
     "execution_count": 8,
     "metadata": {},
     "output_type": "execute_result"
    }
   ],
   "source": [
    "@feature_flag(\"off\", name=\"grouped_feature\")\n",
    "def broken_feature():\n",
    "    return \"broken feature\"\n",
    "\n",
    "broken_feature()"
   ]
  },
  {
   "cell_type": "code",
   "execution_count": 9,
   "metadata": {},
   "outputs": [
    {
     "data": {
      "text/plain": [
       "'Response defined by toml'"
      ]
     },
     "execution_count": 9,
     "metadata": {},
     "output_type": "execute_result"
    }
   ],
   "source": [
    "import pathlib\n",
    "broken_feature.configuration_path = pathlib.Path(\"sample_config.toml\")\n",
    "broken_feature()"
   ]
  },
  {
   "cell_type": "markdown",
   "metadata": {},
   "source": [
    "## Show and clean registered features"
   ]
  },
  {
   "cell_type": "markdown",
   "metadata": {},
   "source": [
    "It might be necessary to clean all registered features (un-grouping the features)."
   ]
  },
  {
   "cell_type": "code",
   "execution_count": 10,
   "metadata": {},
   "outputs": [
    {
     "data": {
      "text/plain": [
       "[FeatureContent(activation='off', name='grouped_feature', response='Response defined by toml', shadow=None, func=<function broken_feature at 0x7fa26a6a2950>, configuration=None, configuration_path=None)]"
      ]
     },
     "execution_count": 10,
     "metadata": {},
     "output_type": "execute_result"
    }
   ],
   "source": [
    "@feature_flag(\"off\", name=\"grouped_feature\")\n",
    "def broken_feature():\n",
    "    return \"broken feature\"\n",
    "\n",
    "broken_feature.registered_features"
   ]
  },
  {
   "cell_type": "code",
   "execution_count": 12,
   "metadata": {},
   "outputs": [
    {
     "data": {
      "text/plain": [
       "[]"
      ]
     },
     "execution_count": 12,
     "metadata": {},
     "output_type": "execute_result"
    }
   ],
   "source": [
    "broken_feature.clean()\n",
    "broken_feature.registered_features"
   ]
  }
 ],
 "metadata": {
  "kernelspec": {
   "display_name": ".venv",
   "language": "python",
   "name": "python3"
  },
  "language_info": {
   "codemirror_mode": {
    "name": "ipython",
    "version": 3
   },
   "file_extension": ".py",
   "mimetype": "text/x-python",
   "name": "python",
   "nbconvert_exporter": "python",
   "pygments_lexer": "ipython3",
   "version": "3.10.12"
  }
 },
 "nbformat": 4,
 "nbformat_minor": 2
}
