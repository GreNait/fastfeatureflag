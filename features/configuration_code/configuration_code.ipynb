{
 "cells": [
  {
   "cell_type": "markdown",
   "metadata": {},
   "source": [
    "# &#x2699; configuration / configuration_path"
   ]
  },
  {
   "cell_type": "markdown",
   "metadata": {},
   "source": [
    "Configuring all feature flags at once. Or reconfiguring after initialization."
   ]
  },
  {
   "cell_type": "markdown",
   "metadata": {},
   "source": [
    "## Usage `configuration`"
   ]
  },
  {
   "cell_type": "markdown",
   "metadata": {},
   "source": [
    "The configuration file must be defined as a toml. However, it is also possible to provide the configuration as a `dict` directly."
   ]
  },
  {
   "cell_type": "code",
   "execution_count": 14,
   "metadata": {},
   "outputs": [],
   "source": [
    "from fastfeatureflag.feature_flag import feature_flag\n",
    "import toml"
   ]
  },
  {
   "cell_type": "code",
   "execution_count": 2,
   "metadata": {},
   "outputs": [
    {
     "data": {
      "text/plain": [
       "'Do not respond!'"
      ]
     },
     "execution_count": 2,
     "metadata": {},
     "output_type": "execute_result"
    }
   ],
   "source": [
    "toml_content = \"\"\"\n",
    "[feature_one]\n",
    "activation=\"off\"\n",
    "response=\"Do not respond!\"\n",
    "\"\"\"\n",
    "\n",
    "configuration = toml.loads(toml_content)\n",
    "\n",
    "@feature_flag(name=\"feature_one\", configuration=configuration)\n",
    "def feature_one():\n",
    "    return \"original feature one\"\n",
    "\n",
    "feature_one()"
   ]
  },
  {
   "cell_type": "code",
   "execution_count": 3,
   "metadata": {},
   "outputs": [],
   "source": [
    "feature_one.clean()"
   ]
  },
  {
   "cell_type": "code",
   "execution_count": 4,
   "metadata": {},
   "outputs": [
    {
     "data": {
      "text/plain": [
       "'original feature one'"
      ]
     },
     "execution_count": 4,
     "metadata": {},
     "output_type": "execute_result"
    }
   ],
   "source": [
    "toml_content = \"\"\"\n",
    "[feature_one]\n",
    "activation=\"on\"\n",
    "response=\"Do not respond!\"\n",
    "\"\"\"\n",
    "\n",
    "configuration = toml.loads(toml_content)\n",
    "\n",
    "@feature_flag(name=\"feature_one\", configuration=configuration)\n",
    "def feature_one():\n",
    "    return \"original feature one\"\n",
    "\n",
    "feature_one()"
   ]
  },
  {
   "cell_type": "code",
   "execution_count": 5,
   "metadata": {},
   "outputs": [],
   "source": [
    "feature_one.clean()"
   ]
  },
  {
   "cell_type": "markdown",
   "metadata": {},
   "source": [
    "## Environment variables\n",
    "\n",
    "For easier handling, the configuration can also contain environment variables."
   ]
  },
  {
   "cell_type": "code",
   "execution_count": 15,
   "metadata": {},
   "outputs": [],
   "source": [
    "toml_content = \"\"\"\n",
    "[feature_one]\n",
    "activation=\"FEATURE_ONE\"\n",
    "response=\"Do not respond!\"\n",
    "\"\"\""
   ]
  },
  {
   "cell_type": "code",
   "execution_count": 16,
   "metadata": {},
   "outputs": [],
   "source": [
    "import os\n",
    "os.environ[\"FEATURE_ONE\"] = \"off\""
   ]
  },
  {
   "cell_type": "code",
   "execution_count": 20,
   "metadata": {},
   "outputs": [
    {
     "data": {
      "text/plain": [
       "'Do not respond!'"
      ]
     },
     "execution_count": 20,
     "metadata": {},
     "output_type": "execute_result"
    }
   ],
   "source": [
    "configuration = toml.loads(toml_content)\n",
    "\n",
    "@feature_flag(name=\"feature_one\", configuration=configuration)\n",
    "def feature_one():\n",
    "    return \"original feature one\"\n",
    "\n",
    "feature_one()"
   ]
  },
  {
   "cell_type": "code",
   "execution_count": 22,
   "metadata": {},
   "outputs": [],
   "source": [
    "feature_one.clean()\n",
    "\n",
    "import os\n",
    "os.environ[\"FEATURE_ONE\"] = \"on\""
   ]
  },
  {
   "cell_type": "code",
   "execution_count": 23,
   "metadata": {},
   "outputs": [
    {
     "data": {
      "text/plain": [
       "'original feature one'"
      ]
     },
     "execution_count": 23,
     "metadata": {},
     "output_type": "execute_result"
    }
   ],
   "source": [
    "configuration = toml.loads(toml_content)\n",
    "\n",
    "@feature_flag(name=\"feature_one\", configuration=configuration)\n",
    "def feature_one():\n",
    "    return \"original feature one\"\n",
    "\n",
    "feature_one()"
   ]
  },
  {
   "cell_type": "markdown",
   "metadata": {},
   "source": [
    "## Usage `configuration_path`\n",
    "\n",
    "Instead of the configuration directly, it is also possible to provide a path to a toml, containing the configuration"
   ]
  },
  {
   "cell_type": "code",
   "execution_count": 26,
   "metadata": {},
   "outputs": [
    {
     "data": {
      "text/plain": [
       "'Response defined by toml'"
      ]
     },
     "execution_count": 26,
     "metadata": {},
     "output_type": "execute_result"
    }
   ],
   "source": [
    "import pathlib\n",
    "\n",
    "\n",
    "@feature_flag(name=\"grouped_feature\", configuration_path=pathlib.Path(\"sample_config.toml\"))\n",
    "def feature_one():\n",
    "    return \"original feature one\"\n",
    "\n",
    "feature_one()"
   ]
  },
  {
   "cell_type": "markdown",
   "metadata": {},
   "source": [
    "Of course, also the `toml` file can contain environment variables."
   ]
  }
 ],
 "metadata": {
  "kernelspec": {
   "display_name": ".venv",
   "language": "python",
   "name": "python3"
  },
  "language_info": {
   "codemirror_mode": {
    "name": "ipython",
    "version": 3
   },
   "file_extension": ".py",
   "mimetype": "text/x-python",
   "name": "python",
   "nbconvert_exporter": "python",
   "pygments_lexer": "ipython3",
   "version": "3.10.12"
  }
 },
 "nbformat": 4,
 "nbformat_minor": 2
}
