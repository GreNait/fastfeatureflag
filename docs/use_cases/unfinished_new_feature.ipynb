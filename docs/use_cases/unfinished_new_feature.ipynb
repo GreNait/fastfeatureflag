{
 "cells": [
  {
   "cell_type": "markdown",
   "metadata": {},
   "source": [
    "# Usecase: `unfinished new feature` (trunk-based development)\n",
    "\n",
    "## Scenario\n",
    "\n",
    "As a programmer, you want to add a new feature. Because your team works trunk-based, you are merging constantly to the master branch. This leads to following problems:\n",
    "\n",
    "- Your feature is not finished yet, and the usage of it might be problematic\n",
    "- Your tests of the feature are failing, therefore the tests of other programmers are failing\n",
    "- You do not know, if the implementation of the feature like this is the best way - neither do the other developer\n",
    "- The other developer do not want your feature be active directly - due to possible untested side-effects\n"
   ]
  },
  {
   "cell_type": "markdown",
   "metadata": {},
   "source": [
    "To avoid this problem, the new feature can be flagged from the beginning."
   ]
  },
  {
   "cell_type": "markdown",
   "metadata": {},
   "source": [
    "### Flagging the unittest(s)"
   ]
  },
  {
   "cell_type": "code",
   "execution_count": 1,
   "metadata": {},
   "outputs": [],
   "source": [
    "import ipytest\n",
    "ipytest.autoconfig()\n",
    "\n",
    "from fastfeatureflag.feature_flag import feature_flag\n",
    "\n",
    "def test_check_fizz():\n",
    "    fizz__buzz = FizzBuzz()\n",
    "    assert fizz__buzz.fizz(3) == True\n",
    "    assert fizz__buzz.fizz(4) == False\n",
    "\n",
    "# Here starts the first test of the new feature\n",
    "@feature_flag(name=\"check_buzz\").pytest()\n",
    "def test_check_buzz():\n",
    "    fizz_buzz = FizzBuzz()\n",
    "    assert fizz_buzz.buzz(5) == True\n",
    "    assert fizz_buzz.buzz(6) == True"
   ]
  },
  {
   "cell_type": "markdown",
   "metadata": {},
   "source": [
    "Now lets also take a look on the class implementation."
   ]
  },
  {
   "cell_type": "code",
   "execution_count": 2,
   "metadata": {},
   "outputs": [],
   "source": [
    "class FizzBuzz:\n",
    "    def fizz(self, value: int) -> bool:\n",
    "        if value % 3 == 0:\n",
    "            return True\n",
    "        \n",
    "        return False\n",
    "    \n",
    "    @feature_flag(name=\"check_buzz\")\n",
    "    def buzz(self, value: int) -> bool:\n",
    "        raise ValueError(\"Feature not finished, can't work with value.\")"
   ]
  },
  {
   "cell_type": "code",
   "execution_count": 3,
   "metadata": {},
   "outputs": [
    {
     "name": "stdout",
     "output_type": "stream",
     "text": [
      "\u001b[32m.\u001b[0m\u001b[32m.\u001b[0m\u001b[32m                                                                                           [100%]\u001b[0m\n",
      "\u001b[32m\u001b[32m\u001b[1m2 passed\u001b[0m\u001b[32m in 0.01s\u001b[0m\u001b[0m\n"
     ]
    },
    {
     "data": {
      "text/plain": [
       "<ExitCode.OK: 0>"
      ]
     },
     "execution_count": 3,
     "metadata": {},
     "output_type": "execute_result"
    }
   ],
   "source": [
    "ipytest.run()"
   ]
  },
  {
   "cell_type": "markdown",
   "metadata": {},
   "source": [
    "The tests are passed, even when the feature is not implemented correctly (yet)."
   ]
  },
  {
   "cell_type": "markdown",
   "metadata": {},
   "source": [
    "Now, we would like to actually run and test the feature locally. We can easily `activate` the feature flag directly:"
   ]
  },
  {
   "cell_type": "code",
   "execution_count": 1,
   "metadata": {},
   "outputs": [],
   "source": [
    "import ipytest\n",
    "ipytest.autoconfig()\n",
    "\n",
    "from fastfeatureflag.feature_flag import feature_flag\n",
    "\n",
    "def test_check_fizz():\n",
    "    fizz__buzz = FizzBuzz()\n",
    "    assert fizz__buzz.fizz(3) == True\n",
    "    assert fizz__buzz.fizz(4) == False\n",
    "\n",
    "# Here starts the first test of the new feature\n",
    "@feature_flag(\"on\", name=\"check_buzz\").pytest()\n",
    "def test_check_buzz():\n",
    "    fizz_buzz = FizzBuzz()\n",
    "    assert fizz_buzz.buzz(value=5) == True\n",
    "    assert fizz_buzz.buzz(value=6) == True\n",
    "\n",
    "class FizzBuzz:\n",
    "    def fizz(self, value: int) -> bool:\n",
    "        if value % 3 == 0:\n",
    "            return True\n",
    "        \n",
    "        return False\n",
    "    \n",
    "    @feature_flag(name=\"check_buzz\")\n",
    "    def buzz(self, value: int) -> bool:\n",
    "        raise ValueError(\"Feature not finished, can't work with value.\")"
   ]
  },
  {
   "cell_type": "code",
   "execution_count": 2,
   "metadata": {},
   "outputs": [
    {
     "name": "stdout",
     "output_type": "stream",
     "text": [
      "\u001b[32m.\u001b[0m\u001b[31mF\u001b[0m\u001b[31m                                                                                           [100%]\u001b[0m\n",
      "============================================= FAILURES =============================================\n",
      "\u001b[31m\u001b[1m_________________________________________ test_check_buzz __________________________________________\u001b[0m\n",
      "\n",
      "    \u001b[37m@feature_flag\u001b[39;49;00m(\u001b[33m\"\u001b[39;49;00m\u001b[33mon\u001b[39;49;00m\u001b[33m\"\u001b[39;49;00m, name=\u001b[33m\"\u001b[39;49;00m\u001b[33mcheck_buzz\u001b[39;49;00m\u001b[33m\"\u001b[39;49;00m).pytest()\u001b[90m\u001b[39;49;00m\n",
      "    \u001b[94mdef\u001b[39;49;00m \u001b[92mtest_check_buzz\u001b[39;49;00m():\u001b[90m\u001b[39;49;00m\n",
      "        fizz_buzz = FizzBuzz()\u001b[90m\u001b[39;49;00m\n",
      ">       \u001b[94massert\u001b[39;49;00m fizz_buzz.buzz(value=\u001b[94m5\u001b[39;49;00m) == \u001b[94mTrue\u001b[39;49;00m\u001b[90m\u001b[39;49;00m\n",
      "\n",
      "\u001b[1m\u001b[31m/tmp/ipykernel_8203/1722941283.py\u001b[0m:15: \n",
      "_ _ _ _ _ _ _ _ _ _ _ _ _ _ _ _ _ _ _ _ _ _ _ _ _ _ _ _ _ _ _ _ _ _ _ _ _ _ _ _ _ _ _ _ _ _ _ _ _ _ \n",
      "\u001b[1m\u001b[31m../../fastfeatureflag/feature_flag_configuration.py\u001b[0m:61: in __call__\n",
      "    \u001b[94mreturn\u001b[39;49;00m \u001b[96mself\u001b[39;49;00m._decorated_function(*args, **kwargs)\u001b[90m\u001b[39;49;00m\n",
      "\u001b[1m\u001b[31m../../fastfeatureflag/feature_flag_configuration.py\u001b[0m:210: in _decorated_function\n",
      "    \u001b[94mreturn\u001b[39;49;00m \u001b[96mself\u001b[39;49;00m.feature.func(*args, **\u001b[96mself\u001b[39;49;00m._options)\u001b[90m\u001b[39;49;00m\n",
      "_ _ _ _ _ _ _ _ _ _ _ _ _ _ _ _ _ _ _ _ _ _ _ _ _ _ _ _ _ _ _ _ _ _ _ _ _ _ _ _ _ _ _ _ _ _ _ _ _ _ \n",
      "\n",
      "self = <__main__.FizzBuzz object at 0x7f2a4016c760>, value = 5\n",
      "\n",
      "    \u001b[37m@feature_flag\u001b[39;49;00m(name=\u001b[33m\"\u001b[39;49;00m\u001b[33mcheck_buzz\u001b[39;49;00m\u001b[33m\"\u001b[39;49;00m)\u001b[90m\u001b[39;49;00m\n",
      "    \u001b[94mdef\u001b[39;49;00m \u001b[92mbuzz\u001b[39;49;00m(\u001b[96mself\u001b[39;49;00m, value: \u001b[96mint\u001b[39;49;00m) -> \u001b[96mbool\u001b[39;49;00m:\u001b[90m\u001b[39;49;00m\n",
      ">       \u001b[94mraise\u001b[39;49;00m \u001b[96mValueError\u001b[39;49;00m(\u001b[33m\"\u001b[39;49;00m\u001b[33mFeature not finished, can\u001b[39;49;00m\u001b[33m'\u001b[39;49;00m\u001b[33mt work with value.\u001b[39;49;00m\u001b[33m\"\u001b[39;49;00m)\u001b[90m\u001b[39;49;00m\n",
      "\u001b[1m\u001b[31mE       ValueError: Feature not finished, can't work with value.\u001b[0m\n",
      "\n",
      "\u001b[1m\u001b[31m/tmp/ipykernel_8203/1722941283.py\u001b[0m:27: ValueError\n",
      "\u001b[36m\u001b[1m===================================== short test summary info ======================================\u001b[0m\n",
      "\u001b[31mFAILED\u001b[0m t_bec4621fbd874b8aa9df932ea450859b.py::\u001b[1mtest_check_buzz\u001b[0m - ValueError: Feature not finished, can't work with value.\n",
      "\u001b[31m\u001b[31m\u001b[1m1 failed\u001b[0m, \u001b[32m1 passed\u001b[0m\u001b[31m in 63.17s (0:01:03)\u001b[0m\u001b[0m\n"
     ]
    },
    {
     "data": {
      "text/plain": [
       "<ExitCode.TESTS_FAILED: 1>"
      ]
     },
     "execution_count": 2,
     "metadata": {},
     "output_type": "execute_result"
    }
   ],
   "source": [
    "ipytest.run()"
   ]
  },
  {
   "cell_type": "markdown",
   "metadata": {},
   "source": [
    "Now the test fails, because the original test and the original feature have been activated."
   ]
  },
  {
   "cell_type": "markdown",
   "metadata": {},
   "source": [
    "## Make your debugging/testing life easier\n",
    "\n",
    "With these `feature_flag`s, you can easily enable/disable the feature. However, that might get annoying with time and is prone to errors. You might forget to switch the feature off, etc. Instead, you could use a configuration file. Even better, you can specify environment variables within that configuration file - together with an `.env` file, you can easily test and debug your feature and others never run into the problem to use/test an unfinished feature."
   ]
  },
  {
   "cell_type": "markdown",
   "metadata": {},
   "source": [
    "Configuration file content:\n",
    "\n",
    "```toml title\n",
    "[check_buzz]\n",
    "activation=CHECK_BUZZ\n",
    "```"
   ]
  },
  {
   "cell_type": "markdown",
   "metadata": {},
   "source": [
    "`.env` file content:\n",
    "\n",
    "```bash\n",
    "CHECK_BUZZ=\"on\"\n",
    "```"
   ]
  },
  {
   "cell_type": "markdown",
   "metadata": {},
   "source": [
    "Different `.env` files for e.g. testing stages or other CI/CD pipelines can help you test the software with different scenarios."
   ]
  },
  {
   "cell_type": "markdown",
   "metadata": {},
   "source": [
    "To make your life easier with enabling/disabling features, see: [Configuration](../features/configuration_code.ipynb)"
   ]
  }
 ],
 "metadata": {
  "kernelspec": {
   "display_name": ".venv",
   "language": "python",
   "name": "python3"
  },
  "language_info": {
   "codemirror_mode": {
    "name": "ipython",
    "version": 3
   },
   "file_extension": ".py",
   "mimetype": "text/x-python",
   "name": "python",
   "nbconvert_exporter": "python",
   "pygments_lexer": "ipython3",
   "version": "3.10.12"
  }
 },
 "nbformat": 4,
 "nbformat_minor": 2
}
