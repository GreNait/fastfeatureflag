{
 "cells": [
  {
   "cell_type": "markdown",
   "metadata": {},
   "source": [
    "# Usecase: `unfinished new feature` (trunk-based development)\n",
    "\n",
    "## Scenario\n",
    "\n",
    "As a programmer, you want to add a new feature. Because your team works trunk-based, you are merging constantly to the master branch. This leads to following problems:\n",
    "\n",
    "- Your feature is not finished yet, and the usage of it might be problematic\n",
    "- Your tests of the feature are failing, therefore the tests of other programmers are failing\n",
    "- You do not know, if the implementation of the feature like this is the best way - neither do the other developer\n",
    "- The other developer do not want your feature be active directly - due to possible untested side-effects\n"
   ]
  },
  {
   "cell_type": "markdown",
   "metadata": {},
   "source": [
    "To avoid this problem, the new feature can be flagged from the beginning."
   ]
  },
  {
   "cell_type": "markdown",
   "metadata": {},
   "source": [
    "### Flagging the unittest(s)"
   ]
  },
  {
   "cell_type": "code",
   "execution_count": 9,
   "metadata": {},
   "outputs": [],
   "source": [
    "import ipytest\n",
    "ipytest.autoconfig()\n",
    "\n",
    "from fastfeatureflag.feature_flag import feature_flag\n",
    "\n",
    "def test_check_fizz():\n",
    "    fizz__buzz = FizzBuzz()\n",
    "    assert fizz__buzz.fizz(3) == True\n",
    "    assert fizz__buzz.fizz(4) == False\n",
    "\n",
    "# Here starts the first test of the new feature\n",
    "@feature_flag(name=\"check_buzz\", response=True)\n",
    "def test_check_buzz():\n",
    "    fizz_buzz = FizzBuzz()\n",
    "    assert fizz_buzz.buzz(5) == True\n",
    "    assert fizz_buzz.buzz(6) == True"
   ]
  },
  {
   "cell_type": "markdown",
   "metadata": {},
   "source": [
    "Now lets also take a look on the class implementation."
   ]
  },
  {
   "cell_type": "code",
   "execution_count": 7,
   "metadata": {},
   "outputs": [],
   "source": [
    "class FizzBuzz:\n",
    "    def fizz(self, value: int) -> bool:\n",
    "        if value % 3 == 0:\n",
    "            return True\n",
    "        \n",
    "        return False\n",
    "    \n",
    "    @feature_flag(name=\"check_buzz\")\n",
    "    def buzz(self, value: int) -> bool:\n",
    "        raise ValueError(\"Feature not finished, can't work with value.\")"
   ]
  },
  {
   "cell_type": "code",
   "execution_count": 8,
   "metadata": {},
   "outputs": [
    {
     "name": "stdout",
     "output_type": "stream",
     "text": [
      "\u001b[32m.\u001b[0m\u001b[33m                                                                                            [100%]\u001b[0m\n",
      "\u001b[33m========================================= warnings summary =========================================\u001b[0m\n",
      "../../fastfeatureflag/feature_flag_configuration.py:57\n",
      "  /home/grenait/Documents/Git/fastfeatureflag/fastfeatureflag/feature_flag_configuration.py:57: PytestCollectionWarning: cannot collect 'test_check_buzz' because it is not a function.\n",
      "    def __call__(self, *args: Any, **kwargs: Any) -> Any:\n",
      "\n",
      "-- Docs: https://docs.pytest.org/en/stable/how-to/capture-warnings.html\n",
      "\u001b[33m\u001b[32m1 passed\u001b[0m, \u001b[33m\u001b[1m1 warning\u001b[0m\u001b[33m in 0.01s\u001b[0m\u001b[0m\n"
     ]
    },
    {
     "data": {
      "text/plain": [
       "<ExitCode.OK: 0>"
      ]
     },
     "execution_count": 8,
     "metadata": {},
     "output_type": "execute_result"
    }
   ],
   "source": [
    "ipytest.run()"
   ]
  },
  {
   "cell_type": "markdown",
   "metadata": {},
   "source": [
    "Now, we would like to actually run and test the feature locally. We can easily `activate` the feature flag directly:"
   ]
  },
  {
   "cell_type": "code",
   "execution_count": 10,
   "metadata": {},
   "outputs": [],
   "source": [
    "import ipytest\n",
    "ipytest.autoconfig()\n",
    "\n",
    "from fastfeatureflag.feature_flag import feature_flag\n",
    "\n",
    "def test_check_fizz():\n",
    "    fizz__buzz = FizzBuzz()\n",
    "    assert fizz__buzz.fizz(3) == True\n",
    "    assert fizz__buzz.fizz(4) == False\n",
    "\n",
    "# Here starts the first test of the new feature\n",
    "@feature_flag(\"on\", name=\"check_buzz\", response=True)\n",
    "def test_check_buzz():\n",
    "    fizz_buzz = FizzBuzz()\n",
    "    assert fizz_buzz.buzz(5) == True\n",
    "    assert fizz_buzz.buzz(6) == True\n",
    "\n",
    "class FizzBuzz:\n",
    "    def fizz(self, value: int) -> bool:\n",
    "        if value % 3 == 0:\n",
    "            return True\n",
    "        \n",
    "        return False\n",
    "    \n",
    "    @feature_flag(name=\"check_buzz\")\n",
    "    def buzz(self, value: int) -> bool:\n",
    "        raise ValueError(\"Feature not finished, can't work with value.\")"
   ]
  },
  {
   "cell_type": "code",
   "execution_count": 11,
   "metadata": {},
   "outputs": [
    {
     "name": "stdout",
     "output_type": "stream",
     "text": [
      "\u001b[32m.\u001b[0m\u001b[33m                                                                                            [100%]\u001b[0m\n",
      "\u001b[33m========================================= warnings summary =========================================\u001b[0m\n",
      "../../fastfeatureflag/feature_flag_configuration.py:57\n",
      "  /home/grenait/Documents/Git/fastfeatureflag/fastfeatureflag/feature_flag_configuration.py:57: PytestCollectionWarning: cannot collect 'test_check_buzz' because it is not a function.\n",
      "    def __call__(self, *args: Any, **kwargs: Any) -> Any:\n",
      "\n",
      "-- Docs: https://docs.pytest.org/en/stable/how-to/capture-warnings.html\n",
      "\u001b[33m\u001b[32m1 passed\u001b[0m, \u001b[33m\u001b[1m1 warning\u001b[0m\u001b[33m in 0.03s\u001b[0m\u001b[0m\n"
     ]
    },
    {
     "data": {
      "text/plain": [
       "<ExitCode.OK: 0>"
      ]
     },
     "execution_count": 11,
     "metadata": {},
     "output_type": "execute_result"
    }
   ],
   "source": [
    "ipytest.run()"
   ]
  },
  {
   "cell_type": "code",
   "execution_count": null,
   "metadata": {},
   "outputs": [],
   "source": []
  }
 ],
 "metadata": {
  "kernelspec": {
   "display_name": ".venv",
   "language": "python",
   "name": "python3"
  },
  "language_info": {
   "codemirror_mode": {
    "name": "ipython",
    "version": 3
   },
   "file_extension": ".py",
   "mimetype": "text/x-python",
   "name": "python",
   "nbconvert_exporter": "python",
   "pygments_lexer": "ipython3",
   "version": "3.10.12"
  }
 },
 "nbformat": 4,
 "nbformat_minor": 2
}
