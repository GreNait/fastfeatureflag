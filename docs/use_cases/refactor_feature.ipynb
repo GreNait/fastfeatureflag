{
 "cells": [
  {
   "cell_type": "markdown",
   "metadata": {},
   "source": [
    "# Usecase: `refactoring/replacing existing features`\n",
    "\n",
    "## Scenario\n",
    "\n",
    "As a programmer, you want to change/replace an existing feature/function. However, you might not want to delete the old method/function/feature yet. Additionally, you only want to provide the new feature to certain users in the beginning."
   ]
  },
  {
   "cell_type": "code",
   "execution_count": null,
   "metadata": {},
   "outputs": [],
   "source": [
    "import time\n",
    "\n",
    "class FizzBuzz:\n",
    "    def fizz(self, value: int) -> bool:\n",
    "        if value % 3 == 0:\n",
    "            return True\n",
    "        \n",
    "        return False\n",
    "    \n",
    "    def buzz(self, value: int) -> bool:\n",
    "        if value % 5 == 0:\n",
    "            time.sleep(5)  # simulating a slow performance\n",
    "            return True\n",
    "        \n",
    "        return False"
   ]
  },
  {
   "cell_type": "markdown",
   "metadata": {},
   "source": [
    "In the next cell the execution time is slightly above 5 seconds. This happens, due to the `slow` performance of `.buzz`."
   ]
  },
  {
   "cell_type": "code",
   "execution_count": null,
   "metadata": {},
   "outputs": [],
   "source": [
    "fizz_buzz = FizzBuzz()\n",
    "print(fizz_buzz.fizz(3))\n",
    "print(fizz_buzz.buzz(5))"
   ]
  },
  {
   "cell_type": "markdown",
   "metadata": {},
   "source": [
    "A new feature needs to be developed. However, we want the capability to use the old function still. Due to backwards compatibility, if the new feature doesn't work or not everyone should directly use the new feature. "
   ]
  },
  {
   "cell_type": "code",
   "execution_count": 1,
   "metadata": {},
   "outputs": [],
   "source": [
    "import time\n",
    "from fastfeatureflag.feature_flag import feature_flag\n",
    "\n",
    "class FizzBuzz:\n",
    "    def fizz(self, value: int) -> bool:\n",
    "        if value % 3 == 0:\n",
    "            return True\n",
    "        \n",
    "        return False\n",
    "    \n",
    "    def old_buzz(self, value: int) -> bool:\n",
    "        if value % 5 == 0:\n",
    "            time.sleep(5)  # simulating a slow performance\n",
    "            return True\n",
    "        \n",
    "        return False\n",
    "    \n",
    "    @feature_flag().shadow(run=old_buzz)  # Adding a shadow\n",
    "    def buzz(self, value: int) -> bool:\n",
    "        if value % 5 == 0:\n",
    "            return True\n",
    "        \n",
    "        return False"
   ]
  },
  {
   "cell_type": "markdown",
   "metadata": {},
   "source": [
    "The `buzz` method gets a shadow. If the feature is disabled, the shadow function is run. In this case, we call the `old_buzz` method. If the feature get's activated, the new function is used."
   ]
  },
  {
   "cell_type": "code",
   "execution_count": 2,
   "metadata": {},
   "outputs": [
    {
     "name": "stdout",
     "output_type": "stream",
     "text": [
      "True\n",
      "True\n"
     ]
    }
   ],
   "source": [
    "fizz_buzz = FizzBuzz()\n",
    "print(fizz_buzz.fizz(3))\n",
    "print(fizz_buzz.buzz(5))"
   ]
  },
  {
   "cell_type": "markdown",
   "metadata": {},
   "source": [
    "To make your life easier with enabling/disabling features, see: [Configuration](../features/configuration_code.ipynb)\n"
   ]
  }
 ],
 "metadata": {
  "kernelspec": {
   "display_name": ".venv",
   "language": "python",
   "name": "python3"
  },
  "language_info": {
   "codemirror_mode": {
    "name": "ipython",
    "version": 3
   },
   "file_extension": ".py",
   "mimetype": "text/x-python",
   "name": "python",
   "nbconvert_exporter": "python",
   "pygments_lexer": "ipython3",
   "version": "3.10.12"
  }
 },
 "nbformat": 4,
 "nbformat_minor": 2
}
