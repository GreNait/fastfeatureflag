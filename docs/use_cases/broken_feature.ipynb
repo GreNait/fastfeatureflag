{
 "cells": [
  {
   "cell_type": "markdown",
   "metadata": {},
   "source": [
    "# Usecase: `broken feature`"
   ]
  },
  {
   "cell_type": "markdown",
   "metadata": {},
   "source": [
    "## Scenario:\n",
    "\n",
    "As a programmer you are working on a new feature (method/function/class/etc.). However, the feature you are programming is not yet working perfectly. Unfortunately, you do not have the time to fix the feature right away. Perhaps, it isn't even your feature. You still want to push/merge the change, but others should not use the broken feature."
   ]
  },
  {
   "cell_type": "code",
   "execution_count": 4,
   "metadata": {},
   "outputs": [],
   "source": [
    "class FizzBuzz:\n",
    "    def check_fizz(self, value: int) -> bool:\n",
    "        if value % 3 == 0:\n",
    "            return True\n",
    "        \n",
    "        return False\n",
    "    \n",
    "    def check_buzz(self, value: int) -> bool:\n",
    "        raise ValueError(\"Feature not finished, can't work with value.\")"
   ]
  },
  {
   "cell_type": "markdown",
   "metadata": {},
   "source": [
    "In the example above, a `FizzBuzz` checker is created. However, the `check_buzz` feature doesn't work yet."
   ]
  },
  {
   "cell_type": "code",
   "execution_count": 5,
   "metadata": {},
   "outputs": [
    {
     "data": {
      "text/plain": [
       "True"
      ]
     },
     "execution_count": 5,
     "metadata": {},
     "output_type": "execute_result"
    }
   ],
   "source": [
    "fizz_buzz = FizzBuzz()\n",
    "fizz_buzz.check_fizz(3)"
   ]
  },
  {
   "cell_type": "code",
   "execution_count": 6,
   "metadata": {},
   "outputs": [
    {
     "ename": "ValueError",
     "evalue": "Feature not finished, can't work with value.",
     "output_type": "error",
     "traceback": [
      "\u001b[0;31m---------------------------------------------------------------------------\u001b[0m",
      "\u001b[0;31mValueError\u001b[0m                                Traceback (most recent call last)",
      "\u001b[1;32m/home/grenait/Documents/Git/fastfeatureflag/docs/use_cases/broken_feature.ipynb Cell 6\u001b[0m line \u001b[0;36m1\n\u001b[0;32m----> <a href='vscode-notebook-cell:/home/grenait/Documents/Git/fastfeatureflag/docs/use_cases/broken_feature.ipynb#W6sZmlsZQ%3D%3D?line=0'>1</a>\u001b[0m fizz_buzz\u001b[39m.\u001b[39;49mcheck_buzz(\u001b[39m5\u001b[39;49m)\n",
      "\u001b[1;32m/home/grenait/Documents/Git/fastfeatureflag/docs/use_cases/broken_feature.ipynb Cell 6\u001b[0m line \u001b[0;36m9\n\u001b[1;32m      <a href='vscode-notebook-cell:/home/grenait/Documents/Git/fastfeatureflag/docs/use_cases/broken_feature.ipynb#W6sZmlsZQ%3D%3D?line=7'>8</a>\u001b[0m \u001b[39mdef\u001b[39;00m \u001b[39mcheck_buzz\u001b[39m(\u001b[39mself\u001b[39m, value: \u001b[39mint\u001b[39m) \u001b[39m-\u001b[39m\u001b[39m>\u001b[39m \u001b[39mbool\u001b[39m:\n\u001b[0;32m----> <a href='vscode-notebook-cell:/home/grenait/Documents/Git/fastfeatureflag/docs/use_cases/broken_feature.ipynb#W6sZmlsZQ%3D%3D?line=8'>9</a>\u001b[0m     \u001b[39mraise\u001b[39;00m \u001b[39mValueError\u001b[39;00m(\u001b[39m\"\u001b[39m\u001b[39mFeature not finished, can\u001b[39m\u001b[39m'\u001b[39m\u001b[39mt work with value.\u001b[39m\u001b[39m\"\u001b[39m)\n",
      "\u001b[0;31mValueError\u001b[0m: Feature not finished, can't work with value."
     ]
    }
   ],
   "source": [
    "fizz_buzz.check_buzz(5)"
   ]
  },
  {
   "cell_type": "markdown",
   "metadata": {},
   "source": [
    "With a feature flag, we can easily disable that feature."
   ]
  },
  {
   "cell_type": "code",
   "execution_count": 7,
   "metadata": {},
   "outputs": [],
   "source": [
    "from fastfeatureflag.feature_flag import feature_flag\n",
    "\n",
    "class FizzBuzz:\n",
    "    def check_fizz(self, value: int) -> bool:\n",
    "        if value % 3 == 0:\n",
    "            return True\n",
    "        \n",
    "        return False\n",
    "    \n",
    "    @feature_flag()\n",
    "    def check_buzz(self, value: int) -> bool:\n",
    "        raise ValueError(\"Feature not finished, can't work with value.\")"
   ]
  },
  {
   "cell_type": "code",
   "execution_count": 8,
   "metadata": {},
   "outputs": [
    {
     "ename": "NotImplementedError",
     "evalue": "Feature not implemented",
     "output_type": "error",
     "traceback": [
      "\u001b[0;31m---------------------------------------------------------------------------\u001b[0m",
      "\u001b[0;31mNotImplementedError\u001b[0m                       Traceback (most recent call last)",
      "\u001b[1;32m/home/grenait/Documents/Git/fastfeatureflag/docs/use_cases/broken_feature.ipynb Cell 9\u001b[0m line \u001b[0;36m2\n\u001b[1;32m      <a href='vscode-notebook-cell:/home/grenait/Documents/Git/fastfeatureflag/docs/use_cases/broken_feature.ipynb#X14sZmlsZQ%3D%3D?line=0'>1</a>\u001b[0m fizz_buzz \u001b[39m=\u001b[39m FizzBuzz()\n\u001b[0;32m----> <a href='vscode-notebook-cell:/home/grenait/Documents/Git/fastfeatureflag/docs/use_cases/broken_feature.ipynb#X14sZmlsZQ%3D%3D?line=1'>2</a>\u001b[0m fizz_buzz\u001b[39m.\u001b[39;49mcheck_buzz(\u001b[39m5\u001b[39;49m)\n",
      "File \u001b[0;32m~/Documents/Git/fastfeatureflag/fastfeatureflag/feature_flag_configuration.py:61\u001b[0m, in \u001b[0;36mFeatureFlagConfiguration.__call__\u001b[0;34m(self, *args, **kwargs)\u001b[0m\n\u001b[1;32m     58\u001b[0m \u001b[39mif\u001b[39;00m \u001b[39mself\u001b[39m\u001b[39m.\u001b[39mfeature\u001b[39m.\u001b[39mshadow:\n\u001b[1;32m     59\u001b[0m     \u001b[39mreturn\u001b[39;00m \u001b[39mself\u001b[39m\u001b[39m.\u001b[39m_shadow_function(\u001b[39m*\u001b[39margs, \u001b[39m*\u001b[39m\u001b[39m*\u001b[39mkwargs)\n\u001b[0;32m---> 61\u001b[0m \u001b[39mreturn\u001b[39;00m \u001b[39mself\u001b[39;49m\u001b[39m.\u001b[39;49m_decorated_function(\u001b[39m*\u001b[39;49margs, \u001b[39m*\u001b[39;49m\u001b[39m*\u001b[39;49mkwargs)\n",
      "File \u001b[0;32m~/Documents/Git/fastfeatureflag/fastfeatureflag/feature_flag_configuration.py:188\u001b[0m, in \u001b[0;36mFeatureFlagConfiguration._decorated_function\u001b[0;34m(self, *args, **kwargs)\u001b[0m\n\u001b[1;32m    185\u001b[0m     \u001b[39mif\u001b[39;00m \u001b[39mself\u001b[39m\u001b[39m.\u001b[39mfeature\u001b[39m.\u001b[39mresponse:\n\u001b[1;32m    186\u001b[0m         \u001b[39mreturn\u001b[39;00m \u001b[39mself\u001b[39m\u001b[39m.\u001b[39mfeature\u001b[39m.\u001b[39mresponse\n\u001b[0;32m--> 188\u001b[0m     \u001b[39mraise\u001b[39;00m \u001b[39mNotImplementedError\u001b[39;00m(\u001b[39m\"\u001b[39m\u001b[39mFeature not implemented\u001b[39m\u001b[39m\"\u001b[39m) \u001b[39mfrom\u001b[39;00m \u001b[39mNone\u001b[39;00m\n\u001b[1;32m    190\u001b[0m \u001b[39mif\u001b[39;00m (\n\u001b[1;32m    191\u001b[0m     \u001b[39mself\u001b[39m\u001b[39m.\u001b[39mfeature\u001b[39m.\u001b[39mactivation \u001b[39m==\u001b[39m \u001b[39m\"\u001b[39m\u001b[39mon\u001b[39m\u001b[39m\"\u001b[39m\n\u001b[1;32m    192\u001b[0m     \u001b[39mor\u001b[39;00m os\u001b[39m.\u001b[39menviron\u001b[39m.\u001b[39mget(\u001b[39mself\u001b[39m\u001b[39m.\u001b[39mfeature\u001b[39m.\u001b[39mactivation) \u001b[39m==\u001b[39m \u001b[39m\"\u001b[39m\u001b[39mon\u001b[39m\u001b[39m\"\u001b[39m\n\u001b[1;32m    193\u001b[0m ):\n\u001b[1;32m    194\u001b[0m     \u001b[39mself\u001b[39m\u001b[39m.\u001b[39m_options \u001b[39m=\u001b[39m \u001b[39mself\u001b[39m\u001b[39m.\u001b[39m_options \u001b[39m|\u001b[39m kwargs\n",
      "\u001b[0;31mNotImplementedError\u001b[0m: Feature not implemented"
     ]
    }
   ],
   "source": [
    "fizz_buzz = FizzBuzz()\n",
    "fizz_buzz.check_buzz(5)"
   ]
  },
  {
   "cell_type": "markdown",
   "metadata": {},
   "source": [
    "Now a `NotImplementedError` appears. The feature is now disabled. This will avoid, that other users might use that feature by accident. "
   ]
  },
  {
   "cell_type": "markdown",
   "metadata": {},
   "source": [
    "But perhaps an Exception is not what you want. Perhaps you want to have a predefined return value. This might help with testing, etc. Even without the feature being finished."
   ]
  },
  {
   "cell_type": "code",
   "execution_count": 9,
   "metadata": {},
   "outputs": [],
   "source": [
    "from fastfeatureflag.feature_flag import feature_flag\n",
    "\n",
    "class FizzBuzz:\n",
    "    def check_fizz(self, value: int) -> bool:\n",
    "        if value % 3 == 0:\n",
    "            return True\n",
    "        \n",
    "        return False\n",
    "    \n",
    "    @feature_flag(response=True)\n",
    "    def check_buzz(self, value: int) -> bool:\n",
    "        raise ValueError(\"Feature not finished, can't work with value.\")"
   ]
  },
  {
   "cell_type": "code",
   "execution_count": 10,
   "metadata": {},
   "outputs": [
    {
     "data": {
      "text/plain": [
       "True"
      ]
     },
     "execution_count": 10,
     "metadata": {},
     "output_type": "execute_result"
    }
   ],
   "source": [
    "fizz_buzz = FizzBuzz()\n",
    "fizz_buzz.check_buzz(5)"
   ]
  },
  {
   "cell_type": "markdown",
   "metadata": {},
   "source": [
    "Of course, this can also lead to misleading errors/issues/behaviors"
   ]
  },
  {
   "cell_type": "code",
   "execution_count": 11,
   "metadata": {},
   "outputs": [
    {
     "data": {
      "text/plain": [
       "True"
      ]
     },
     "execution_count": 11,
     "metadata": {},
     "output_type": "execute_result"
    }
   ],
   "source": [
    "fizz_buzz.check_buzz(6)"
   ]
  },
  {
   "cell_type": "markdown",
   "metadata": {},
   "source": []
  }
 ],
 "metadata": {
  "kernelspec": {
   "display_name": ".venv",
   "language": "python",
   "name": "python3"
  },
  "language_info": {
   "codemirror_mode": {
    "name": "ipython",
    "version": 3
   },
   "file_extension": ".py",
   "mimetype": "text/x-python",
   "name": "python",
   "nbconvert_exporter": "python",
   "pygments_lexer": "ipython3",
   "version": "3.10.12"
  }
 },
 "nbformat": 4,
 "nbformat_minor": 2
}
