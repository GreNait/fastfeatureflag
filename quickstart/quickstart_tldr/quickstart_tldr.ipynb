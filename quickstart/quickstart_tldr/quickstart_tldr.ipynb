{
 "cells": [
  {
   "cell_type": "markdown",
   "metadata": {},
   "source": [
    "# &#x2328; Quickstart TL;DR"
   ]
  },
  {
   "cell_type": "markdown",
   "metadata": {},
   "source": [
    "## Keeping someone from using your unfinished feature"
   ]
  },
  {
   "cell_type": "code",
   "execution_count": 7,
   "metadata": {},
   "outputs": [],
   "source": [
    "from fastfeatureflag.feature_flag import feature_flag"
   ]
  },
  {
   "cell_type": "code",
   "execution_count": 8,
   "metadata": {},
   "outputs": [
    {
     "data": {
      "text/plain": [
       "'Not finished'"
      ]
     },
     "execution_count": 8,
     "metadata": {},
     "output_type": "execute_result"
    }
   ],
   "source": [
    "def not_finished_feature():\n",
    "    return \"Not finished\"\n",
    "\n",
    "not_finished_feature()"
   ]
  },
  {
   "cell_type": "code",
   "execution_count": 9,
   "metadata": {},
   "outputs": [
    {
     "ename": "NotImplementedError",
     "evalue": "Feature not implemented",
     "output_type": "error",
     "traceback": [
      "\u001b[0;31m---------------------------------------------------------------------------\u001b[0m",
      "\u001b[0;31mNotImplementedError\u001b[0m                       Traceback (most recent call last)",
      "\u001b[1;32m/home/grenait/Documents/Git/fastfeatureflag/docs/quickstart_tldr.ipynb Cell 5\u001b[0m line \u001b[0;36m5\n\u001b[1;32m      <a href='vscode-notebook-cell:/home/grenait/Documents/Git/fastfeatureflag/docs/quickstart_tldr.ipynb#W6sZmlsZQ%3D%3D?line=0'>1</a>\u001b[0m \u001b[39m@feature_flag\u001b[39m()  \u001b[39m# == @feature_flag(\"off\")\u001b[39;00m\n\u001b[1;32m      <a href='vscode-notebook-cell:/home/grenait/Documents/Git/fastfeatureflag/docs/quickstart_tldr.ipynb#W6sZmlsZQ%3D%3D?line=1'>2</a>\u001b[0m \u001b[39mdef\u001b[39;00m \u001b[39mnot_finished_feature\u001b[39m():\n\u001b[1;32m      <a href='vscode-notebook-cell:/home/grenait/Documents/Git/fastfeatureflag/docs/quickstart_tldr.ipynb#W6sZmlsZQ%3D%3D?line=2'>3</a>\u001b[0m     \u001b[39mreturn\u001b[39;00m \u001b[39m\"\u001b[39m\u001b[39mNot finished\u001b[39m\u001b[39m\"\u001b[39m\n\u001b[0;32m----> <a href='vscode-notebook-cell:/home/grenait/Documents/Git/fastfeatureflag/docs/quickstart_tldr.ipynb#W6sZmlsZQ%3D%3D?line=4'>5</a>\u001b[0m not_finished_feature()\n",
      "File \u001b[0;32m~/Documents/Git/fastfeatureflag/fastfeatureflag/feature_flag_configuration.py:61\u001b[0m, in \u001b[0;36mFeatureFlagConfiguration.__call__\u001b[0;34m(self, *args, **kwargs)\u001b[0m\n\u001b[1;32m     58\u001b[0m \u001b[39mif\u001b[39;00m \u001b[39mself\u001b[39m\u001b[39m.\u001b[39mfeature\u001b[39m.\u001b[39mshadow:\n\u001b[1;32m     59\u001b[0m     \u001b[39mreturn\u001b[39;00m \u001b[39mself\u001b[39m\u001b[39m.\u001b[39m_shadow_function(\u001b[39m*\u001b[39margs, \u001b[39m*\u001b[39m\u001b[39m*\u001b[39mkwargs)\n\u001b[0;32m---> 61\u001b[0m \u001b[39mreturn\u001b[39;00m \u001b[39mself\u001b[39;49m\u001b[39m.\u001b[39;49m_decorated_function(\u001b[39m*\u001b[39;49margs, \u001b[39m*\u001b[39;49m\u001b[39m*\u001b[39;49mkwargs)\n",
      "File \u001b[0;32m~/Documents/Git/fastfeatureflag/fastfeatureflag/feature_flag_configuration.py:174\u001b[0m, in \u001b[0;36mFeatureFlagConfiguration._decorated_function\u001b[0;34m(self, *args, **kwargs)\u001b[0m\n\u001b[1;32m    171\u001b[0m     \u001b[39mif\u001b[39;00m \u001b[39mself\u001b[39m\u001b[39m.\u001b[39mfeature\u001b[39m.\u001b[39mresponse:\n\u001b[1;32m    172\u001b[0m         \u001b[39mreturn\u001b[39;00m \u001b[39mself\u001b[39m\u001b[39m.\u001b[39mfeature\u001b[39m.\u001b[39mresponse\n\u001b[0;32m--> 174\u001b[0m     \u001b[39mraise\u001b[39;00m \u001b[39mNotImplementedError\u001b[39;00m(\u001b[39m\"\u001b[39m\u001b[39mFeature not implemented\u001b[39m\u001b[39m\"\u001b[39m) \u001b[39mfrom\u001b[39;00m \u001b[39mNone\u001b[39;00m\n\u001b[1;32m    176\u001b[0m \u001b[39mif\u001b[39;00m (\n\u001b[1;32m    177\u001b[0m     \u001b[39mself\u001b[39m\u001b[39m.\u001b[39mfeature\u001b[39m.\u001b[39mactivation \u001b[39m==\u001b[39m \u001b[39m\"\u001b[39m\u001b[39mon\u001b[39m\u001b[39m\"\u001b[39m\n\u001b[1;32m    178\u001b[0m     \u001b[39mor\u001b[39;00m os\u001b[39m.\u001b[39menviron\u001b[39m.\u001b[39mget(\u001b[39mself\u001b[39m\u001b[39m.\u001b[39mfeature\u001b[39m.\u001b[39mactivation) \u001b[39m==\u001b[39m \u001b[39m\"\u001b[39m\u001b[39mon\u001b[39m\u001b[39m\"\u001b[39m\n\u001b[1;32m    179\u001b[0m ):\n\u001b[1;32m    180\u001b[0m     \u001b[39mself\u001b[39m\u001b[39m.\u001b[39m_options \u001b[39m=\u001b[39m \u001b[39mself\u001b[39m\u001b[39m.\u001b[39m_options \u001b[39m|\u001b[39m kwargs\n",
      "\u001b[0;31mNotImplementedError\u001b[0m: Feature not implemented"
     ]
    }
   ],
   "source": [
    "@feature_flag()  # == @feature_flag(\"off\")\n",
    "def not_finished_feature():\n",
    "    return \"Not finished\"\n",
    "\n",
    "not_finished_feature()"
   ]
  },
  {
   "cell_type": "markdown",
   "metadata": {},
   "source": [
    "activate the feature"
   ]
  },
  {
   "cell_type": "code",
   "execution_count": 10,
   "metadata": {},
   "outputs": [
    {
     "data": {
      "text/plain": [
       "'Not finished'"
      ]
     },
     "execution_count": 10,
     "metadata": {},
     "output_type": "execute_result"
    }
   ],
   "source": [
    "@feature_flag(\"on\")\n",
    "def not_finished_feature():\n",
    "    return \"Not finished\"\n",
    "\n",
    "not_finished_feature()"
   ]
  },
  {
   "cell_type": "markdown",
   "metadata": {},
   "source": [
    "## Response differently if feature is deactivated"
   ]
  },
  {
   "cell_type": "code",
   "execution_count": 11,
   "metadata": {},
   "outputs": [
    {
     "data": {
      "text/plain": [
       "'Go on'"
      ]
     },
     "execution_count": 11,
     "metadata": {},
     "output_type": "execute_result"
    }
   ],
   "source": [
    "@feature_flag(\"off\", response=\"Go on\")\n",
    "def not_finished_feature():\n",
    "    return \"Not finished\"\n",
    "\n",
    "not_finished_feature()"
   ]
  },
  {
   "cell_type": "code",
   "execution_count": 12,
   "metadata": {},
   "outputs": [
    {
     "data": {
      "text/plain": [
       "{'mocked': 'data'}"
      ]
     },
     "execution_count": 12,
     "metadata": {},
     "output_type": "execute_result"
    }
   ],
   "source": [
    "def mocked_data():\n",
    "    return {\"mocked\":\"data\"}\n",
    "\n",
    "@feature_flag(\"off\", response=mocked_data())\n",
    "def not_finished_feature():\n",
    "    return \"Not finished\"\n",
    "\n",
    "not_finished_feature()"
   ]
  },
  {
   "cell_type": "markdown",
   "metadata": {},
   "source": [
    "## Group features by naming them"
   ]
  },
  {
   "cell_type": "code",
   "execution_count": 13,
   "metadata": {},
   "outputs": [],
   "source": [
    "@feature_flag(\"off\", name=\"grouped_features\")\n",
    "def not_finished_feature_one():\n",
    "    return \"Not finished feature one\"\n",
    "\n",
    "@feature_flag()\n",
    "def not_finished_feature_two(name=\"grouped_features\"):\n",
    "    return \"Not finished feature two\""
   ]
  },
  {
   "cell_type": "code",
   "execution_count": 14,
   "metadata": {},
   "outputs": [
    {
     "ename": "NotImplementedError",
     "evalue": "Feature not implemented",
     "output_type": "error",
     "traceback": [
      "\u001b[0;31m---------------------------------------------------------------------------\u001b[0m",
      "\u001b[0;31mNotImplementedError\u001b[0m                       Traceback (most recent call last)",
      "\u001b[1;32m/home/grenait/Documents/Git/fastfeatureflag/docs/quickstart_tldr.ipynb Cell 13\u001b[0m line \u001b[0;36m1\n\u001b[0;32m----> <a href='vscode-notebook-cell:/home/grenait/Documents/Git/fastfeatureflag/docs/quickstart_tldr.ipynb#X34sZmlsZQ%3D%3D?line=0'>1</a>\u001b[0m not_finished_feature_one()\n",
      "File \u001b[0;32m~/Documents/Git/fastfeatureflag/fastfeatureflag/feature_flag_configuration.py:61\u001b[0m, in \u001b[0;36mFeatureFlagConfiguration.__call__\u001b[0;34m(self, *args, **kwargs)\u001b[0m\n\u001b[1;32m     58\u001b[0m \u001b[39mif\u001b[39;00m \u001b[39mself\u001b[39m\u001b[39m.\u001b[39mfeature\u001b[39m.\u001b[39mshadow:\n\u001b[1;32m     59\u001b[0m     \u001b[39mreturn\u001b[39;00m \u001b[39mself\u001b[39m\u001b[39m.\u001b[39m_shadow_function(\u001b[39m*\u001b[39margs, \u001b[39m*\u001b[39m\u001b[39m*\u001b[39mkwargs)\n\u001b[0;32m---> 61\u001b[0m \u001b[39mreturn\u001b[39;00m \u001b[39mself\u001b[39;49m\u001b[39m.\u001b[39;49m_decorated_function(\u001b[39m*\u001b[39;49margs, \u001b[39m*\u001b[39;49m\u001b[39m*\u001b[39;49mkwargs)\n",
      "File \u001b[0;32m~/Documents/Git/fastfeatureflag/fastfeatureflag/feature_flag_configuration.py:174\u001b[0m, in \u001b[0;36mFeatureFlagConfiguration._decorated_function\u001b[0;34m(self, *args, **kwargs)\u001b[0m\n\u001b[1;32m    171\u001b[0m     \u001b[39mif\u001b[39;00m \u001b[39mself\u001b[39m\u001b[39m.\u001b[39mfeature\u001b[39m.\u001b[39mresponse:\n\u001b[1;32m    172\u001b[0m         \u001b[39mreturn\u001b[39;00m \u001b[39mself\u001b[39m\u001b[39m.\u001b[39mfeature\u001b[39m.\u001b[39mresponse\n\u001b[0;32m--> 174\u001b[0m     \u001b[39mraise\u001b[39;00m \u001b[39mNotImplementedError\u001b[39;00m(\u001b[39m\"\u001b[39m\u001b[39mFeature not implemented\u001b[39m\u001b[39m\"\u001b[39m) \u001b[39mfrom\u001b[39;00m \u001b[39mNone\u001b[39;00m\n\u001b[1;32m    176\u001b[0m \u001b[39mif\u001b[39;00m (\n\u001b[1;32m    177\u001b[0m     \u001b[39mself\u001b[39m\u001b[39m.\u001b[39mfeature\u001b[39m.\u001b[39mactivation \u001b[39m==\u001b[39m \u001b[39m\"\u001b[39m\u001b[39mon\u001b[39m\u001b[39m\"\u001b[39m\n\u001b[1;32m    178\u001b[0m     \u001b[39mor\u001b[39;00m os\u001b[39m.\u001b[39menviron\u001b[39m.\u001b[39mget(\u001b[39mself\u001b[39m\u001b[39m.\u001b[39mfeature\u001b[39m.\u001b[39mactivation) \u001b[39m==\u001b[39m \u001b[39m\"\u001b[39m\u001b[39mon\u001b[39m\u001b[39m\"\u001b[39m\n\u001b[1;32m    179\u001b[0m ):\n\u001b[1;32m    180\u001b[0m     \u001b[39mself\u001b[39m\u001b[39m.\u001b[39m_options \u001b[39m=\u001b[39m \u001b[39mself\u001b[39m\u001b[39m.\u001b[39m_options \u001b[39m|\u001b[39m kwargs\n",
      "\u001b[0;31mNotImplementedError\u001b[0m: Feature not implemented"
     ]
    }
   ],
   "source": [
    "not_finished_feature_one()"
   ]
  },
  {
   "cell_type": "code",
   "execution_count": 16,
   "metadata": {},
   "outputs": [
    {
     "ename": "NotImplementedError",
     "evalue": "Feature not implemented",
     "output_type": "error",
     "traceback": [
      "\u001b[0;31m---------------------------------------------------------------------------\u001b[0m",
      "\u001b[0;31mNotImplementedError\u001b[0m                       Traceback (most recent call last)",
      "\u001b[1;32m/home/grenait/Documents/Git/fastfeatureflag/docs/quickstart_tldr.ipynb Cell 14\u001b[0m line \u001b[0;36m1\n\u001b[0;32m----> <a href='vscode-notebook-cell:/home/grenait/Documents/Git/fastfeatureflag/docs/quickstart_tldr.ipynb#X35sZmlsZQ%3D%3D?line=0'>1</a>\u001b[0m not_finished_feature_two()\n",
      "File \u001b[0;32m~/Documents/Git/fastfeatureflag/fastfeatureflag/feature_flag_configuration.py:61\u001b[0m, in \u001b[0;36mFeatureFlagConfiguration.__call__\u001b[0;34m(self, *args, **kwargs)\u001b[0m\n\u001b[1;32m     58\u001b[0m \u001b[39mif\u001b[39;00m \u001b[39mself\u001b[39m\u001b[39m.\u001b[39mfeature\u001b[39m.\u001b[39mshadow:\n\u001b[1;32m     59\u001b[0m     \u001b[39mreturn\u001b[39;00m \u001b[39mself\u001b[39m\u001b[39m.\u001b[39m_shadow_function(\u001b[39m*\u001b[39margs, \u001b[39m*\u001b[39m\u001b[39m*\u001b[39mkwargs)\n\u001b[0;32m---> 61\u001b[0m \u001b[39mreturn\u001b[39;00m \u001b[39mself\u001b[39;49m\u001b[39m.\u001b[39;49m_decorated_function(\u001b[39m*\u001b[39;49margs, \u001b[39m*\u001b[39;49m\u001b[39m*\u001b[39;49mkwargs)\n",
      "File \u001b[0;32m~/Documents/Git/fastfeatureflag/fastfeatureflag/feature_flag_configuration.py:174\u001b[0m, in \u001b[0;36mFeatureFlagConfiguration._decorated_function\u001b[0;34m(self, *args, **kwargs)\u001b[0m\n\u001b[1;32m    171\u001b[0m     \u001b[39mif\u001b[39;00m \u001b[39mself\u001b[39m\u001b[39m.\u001b[39mfeature\u001b[39m.\u001b[39mresponse:\n\u001b[1;32m    172\u001b[0m         \u001b[39mreturn\u001b[39;00m \u001b[39mself\u001b[39m\u001b[39m.\u001b[39mfeature\u001b[39m.\u001b[39mresponse\n\u001b[0;32m--> 174\u001b[0m     \u001b[39mraise\u001b[39;00m \u001b[39mNotImplementedError\u001b[39;00m(\u001b[39m\"\u001b[39m\u001b[39mFeature not implemented\u001b[39m\u001b[39m\"\u001b[39m) \u001b[39mfrom\u001b[39;00m \u001b[39mNone\u001b[39;00m\n\u001b[1;32m    176\u001b[0m \u001b[39mif\u001b[39;00m (\n\u001b[1;32m    177\u001b[0m     \u001b[39mself\u001b[39m\u001b[39m.\u001b[39mfeature\u001b[39m.\u001b[39mactivation \u001b[39m==\u001b[39m \u001b[39m\"\u001b[39m\u001b[39mon\u001b[39m\u001b[39m\"\u001b[39m\n\u001b[1;32m    178\u001b[0m     \u001b[39mor\u001b[39;00m os\u001b[39m.\u001b[39menviron\u001b[39m.\u001b[39mget(\u001b[39mself\u001b[39m\u001b[39m.\u001b[39mfeature\u001b[39m.\u001b[39mactivation) \u001b[39m==\u001b[39m \u001b[39m\"\u001b[39m\u001b[39mon\u001b[39m\u001b[39m\"\u001b[39m\n\u001b[1;32m    179\u001b[0m ):\n\u001b[1;32m    180\u001b[0m     \u001b[39mself\u001b[39m\u001b[39m.\u001b[39m_options \u001b[39m=\u001b[39m \u001b[39mself\u001b[39m\u001b[39m.\u001b[39m_options \u001b[39m|\u001b[39m kwargs\n",
      "\u001b[0;31mNotImplementedError\u001b[0m: Feature not implemented"
     ]
    }
   ],
   "source": [
    "not_finished_feature_two()"
   ]
  },
  {
   "cell_type": "markdown",
   "metadata": {},
   "source": [
    "we want to reuse the feature name, therefore we have to clean all registered features"
   ]
  },
  {
   "cell_type": "code",
   "execution_count": 17,
   "metadata": {},
   "outputs": [],
   "source": [
    "not_finished_feature_one.clean()"
   ]
  },
  {
   "cell_type": "markdown",
   "metadata": {},
   "source": [
    "changing the activation of the first appearing `feature_flag` activates both features"
   ]
  },
  {
   "cell_type": "code",
   "execution_count": 18,
   "metadata": {},
   "outputs": [],
   "source": [
    "@feature_flag(\"on\", name=\"grouped_features\")\n",
    "def not_finished_feature_one():\n",
    "    return \"Not finished feature one\"\n",
    "\n",
    "@feature_flag(name=\"grouped_features\")\n",
    "def not_finished_feature_two():\n",
    "    return \"Not finished feature two\""
   ]
  },
  {
   "cell_type": "code",
   "execution_count": 19,
   "metadata": {},
   "outputs": [
    {
     "data": {
      "text/plain": [
       "'Not finished feature one'"
      ]
     },
     "execution_count": 19,
     "metadata": {},
     "output_type": "execute_result"
    }
   ],
   "source": [
    "not_finished_feature_one()"
   ]
  },
  {
   "cell_type": "code",
   "execution_count": 20,
   "metadata": {},
   "outputs": [
    {
     "data": {
      "text/plain": [
       "'Not finished feature two'"
      ]
     },
     "execution_count": 20,
     "metadata": {},
     "output_type": "execute_result"
    }
   ],
   "source": [
    "not_finished_feature_two()"
   ]
  }
 ],
 "metadata": {
  "kernelspec": {
   "display_name": ".venv",
   "language": "python",
   "name": "python3"
  },
  "language_info": {
   "codemirror_mode": {
    "name": "ipython",
    "version": 3
   },
   "file_extension": ".py",
   "mimetype": "text/x-python",
   "name": "python",
   "nbconvert_exporter": "python",
   "pygments_lexer": "ipython3",
   "version": "3.10.12"
  }
 },
 "nbformat": 4,
 "nbformat_minor": 2
}
